{
 "nbformat": 4,
 "nbformat_minor": 2,
 "metadata": {
  "language_info": {
   "name": "python",
   "codemirror_mode": {
    "name": "ipython",
    "version": 3
   },
   "version": "3.7.7-final"
  },
  "orig_nbformat": 2,
  "file_extension": ".py",
  "mimetype": "text/x-python",
  "name": "python",
  "npconvert_exporter": "python",
  "pygments_lexer": "ipython3",
  "version": 3,
  "kernelspec": {
   "name": "python38164bitc0da0d890ec94ee5a9d454106c927ca1",
   "display_name": "Python 3.8.1 64-bit"
  }
 },
 "cells": [
  {
   "cell_type": "code",
   "execution_count": 1,
   "metadata": {},
   "outputs": [],
   "source": [
    "import pandas as pd \n",
    "import numpy as np "
   ]
  },
  {
   "cell_type": "code",
   "execution_count": 10,
   "metadata": {},
   "outputs": [
    {
     "output_type": "stream",
     "name": "stdout",
     "text": "<class 'pandas.core.frame.DataFrame'>\nRangeIndex: 3070 entries, 0 to 3069\nData columns (total 2 columns):\n #   Column   Non-Null Count  Dtype         \n---  ------   --------------  -----         \n 0   date     2636 non-null   datetime64[ns]\n 1   user_id  2636 non-null   float64       \ndtypes: datetime64[ns](1), float64(1)\nmemory usage: 48.1 KB\nNone\n"
    },
    {
     "output_type": "execute_result",
     "data": {
      "text/plain": "           date  user_id\n0    2020-03-04      4.0\n1    2020-03-04     22.0\n2    2020-03-04     26.0\n3    2020-03-04     36.0\n4    2020-03-04     38.0\n...         ...      ...\n2631 2020-01-02     10.0\n2632 2020-01-02     11.0\n2633 2020-01-02     12.0\n2634 2020-01-02     13.0\n2635 2020-01-02     14.0\n\n[2636 rows x 2 columns]",
      "text/html": "<div>\n<style scoped>\n    .dataframe tbody tr th:only-of-type {\n        vertical-align: middle;\n    }\n\n    .dataframe tbody tr th {\n        vertical-align: top;\n    }\n\n    .dataframe thead th {\n        text-align: right;\n    }\n</style>\n<table border=\"1\" class=\"dataframe\">\n  <thead>\n    <tr style=\"text-align: right;\">\n      <th></th>\n      <th>date</th>\n      <th>user_id</th>\n    </tr>\n  </thead>\n  <tbody>\n    <tr>\n      <th>0</th>\n      <td>2020-03-04</td>\n      <td>4.0</td>\n    </tr>\n    <tr>\n      <th>1</th>\n      <td>2020-03-04</td>\n      <td>22.0</td>\n    </tr>\n    <tr>\n      <th>2</th>\n      <td>2020-03-04</td>\n      <td>26.0</td>\n    </tr>\n    <tr>\n      <th>3</th>\n      <td>2020-03-04</td>\n      <td>36.0</td>\n    </tr>\n    <tr>\n      <th>4</th>\n      <td>2020-03-04</td>\n      <td>38.0</td>\n    </tr>\n    <tr>\n      <th>...</th>\n      <td>...</td>\n      <td>...</td>\n    </tr>\n    <tr>\n      <th>2631</th>\n      <td>2020-01-02</td>\n      <td>10.0</td>\n    </tr>\n    <tr>\n      <th>2632</th>\n      <td>2020-01-02</td>\n      <td>11.0</td>\n    </tr>\n    <tr>\n      <th>2633</th>\n      <td>2020-01-02</td>\n      <td>12.0</td>\n    </tr>\n    <tr>\n      <th>2634</th>\n      <td>2020-01-02</td>\n      <td>13.0</td>\n    </tr>\n    <tr>\n      <th>2635</th>\n      <td>2020-01-02</td>\n      <td>14.0</td>\n    </tr>\n  </tbody>\n</table>\n<p>2636 rows × 2 columns</p>\n</div>"
     },
     "metadata": {},
     "execution_count": 10
    }
   ],
   "source": [
    "df = pd.read_excel(\"Case - Analytics (1).xlsx\", engine = 'openpyxl')\n",
    "print(df.info())\n",
    "df = df.dropna()\n",
    "df"
   ]
  },
  {
   "cell_type": "markdown",
   "metadata": {},
   "source": [
    "# 1. Activity"
   ]
  },
  {
   "cell_type": "code",
   "execution_count": 22,
   "metadata": {},
   "outputs": [],
   "source": [
    "df['week'] = df['date'].dt.weekofyear\n",
    "df['month'] = df['date'].dt.month\n",
    "df['day'] = df['date'].dt.day\n",
    "df['day_of_week'] = df['date'].dt.dayofweek"
   ]
  },
  {
   "cell_type": "code",
   "execution_count": 57,
   "metadata": {},
   "outputs": [
    {
     "output_type": "execute_result",
     "data": {
      "text/plain": "           date  user_id  week  month  day  day_of_week\n0    2020-03-04      4.0    10      3    4            2\n1    2020-03-04     22.0    10      3    4            2\n2    2020-03-04     26.0    10      3    4            2\n3    2020-03-04     36.0    10      3    4            2\n4    2020-03-04     38.0    10      3    4            2\n...         ...      ...   ...    ...  ...          ...\n2631 2020-01-02     10.0     1      1    2            3\n2632 2020-01-02     11.0     1      1    2            3\n2633 2020-01-02     12.0     1      1    2            3\n2634 2020-01-02     13.0     1      1    2            3\n2635 2020-01-02     14.0     1      1    2            3\n\n[2636 rows x 6 columns]",
      "text/html": "<div>\n<style scoped>\n    .dataframe tbody tr th:only-of-type {\n        vertical-align: middle;\n    }\n\n    .dataframe tbody tr th {\n        vertical-align: top;\n    }\n\n    .dataframe thead th {\n        text-align: right;\n    }\n</style>\n<table border=\"1\" class=\"dataframe\">\n  <thead>\n    <tr style=\"text-align: right;\">\n      <th></th>\n      <th>date</th>\n      <th>user_id</th>\n      <th>week</th>\n      <th>month</th>\n      <th>day</th>\n      <th>day_of_week</th>\n    </tr>\n  </thead>\n  <tbody>\n    <tr>\n      <th>0</th>\n      <td>2020-03-04</td>\n      <td>4.0</td>\n      <td>10</td>\n      <td>3</td>\n      <td>4</td>\n      <td>2</td>\n    </tr>\n    <tr>\n      <th>1</th>\n      <td>2020-03-04</td>\n      <td>22.0</td>\n      <td>10</td>\n      <td>3</td>\n      <td>4</td>\n      <td>2</td>\n    </tr>\n    <tr>\n      <th>2</th>\n      <td>2020-03-04</td>\n      <td>26.0</td>\n      <td>10</td>\n      <td>3</td>\n      <td>4</td>\n      <td>2</td>\n    </tr>\n    <tr>\n      <th>3</th>\n      <td>2020-03-04</td>\n      <td>36.0</td>\n      <td>10</td>\n      <td>3</td>\n      <td>4</td>\n      <td>2</td>\n    </tr>\n    <tr>\n      <th>4</th>\n      <td>2020-03-04</td>\n      <td>38.0</td>\n      <td>10</td>\n      <td>3</td>\n      <td>4</td>\n      <td>2</td>\n    </tr>\n    <tr>\n      <th>...</th>\n      <td>...</td>\n      <td>...</td>\n      <td>...</td>\n      <td>...</td>\n      <td>...</td>\n      <td>...</td>\n    </tr>\n    <tr>\n      <th>2631</th>\n      <td>2020-01-02</td>\n      <td>10.0</td>\n      <td>1</td>\n      <td>1</td>\n      <td>2</td>\n      <td>3</td>\n    </tr>\n    <tr>\n      <th>2632</th>\n      <td>2020-01-02</td>\n      <td>11.0</td>\n      <td>1</td>\n      <td>1</td>\n      <td>2</td>\n      <td>3</td>\n    </tr>\n    <tr>\n      <th>2633</th>\n      <td>2020-01-02</td>\n      <td>12.0</td>\n      <td>1</td>\n      <td>1</td>\n      <td>2</td>\n      <td>3</td>\n    </tr>\n    <tr>\n      <th>2634</th>\n      <td>2020-01-02</td>\n      <td>13.0</td>\n      <td>1</td>\n      <td>1</td>\n      <td>2</td>\n      <td>3</td>\n    </tr>\n    <tr>\n      <th>2635</th>\n      <td>2020-01-02</td>\n      <td>14.0</td>\n      <td>1</td>\n      <td>1</td>\n      <td>2</td>\n      <td>3</td>\n    </tr>\n  </tbody>\n</table>\n<p>2636 rows × 6 columns</p>\n</div>"
     },
     "metadata": {},
     "execution_count": 57
    }
   ],
   "source": [
    "df"
   ]
  },
  {
   "cell_type": "markdown",
   "metadata": {},
   "source": [
    "## Activity by day: On average, 14 unique users used this product per day"
   ]
  },
  {
   "cell_type": "code",
   "execution_count": 72,
   "metadata": {},
   "outputs": [
    {
     "output_type": "execute_result",
     "data": {
      "text/plain": "           month       week        day      count\ncount  62.000000  62.000000  62.000000  62.000000\nmean    1.580645   5.370968  14.693548  42.516129\nstd     0.615334   2.631673   8.845836  25.444728\nmin     1.000000   1.000000   1.000000   5.000000\n25%     1.000000   3.000000   7.000000  23.000000\n50%     2.000000   5.000000  14.500000  41.000000\n75%     2.000000   7.750000  22.000000  60.500000\nmax     3.000000  10.000000  31.000000  97.000000",
      "text/html": "<div>\n<style scoped>\n    .dataframe tbody tr th:only-of-type {\n        vertical-align: middle;\n    }\n\n    .dataframe tbody tr th {\n        vertical-align: top;\n    }\n\n    .dataframe thead th {\n        text-align: right;\n    }\n</style>\n<table border=\"1\" class=\"dataframe\">\n  <thead>\n    <tr style=\"text-align: right;\">\n      <th></th>\n      <th>month</th>\n      <th>week</th>\n      <th>day</th>\n      <th>count</th>\n    </tr>\n  </thead>\n  <tbody>\n    <tr>\n      <th>count</th>\n      <td>62.000000</td>\n      <td>62.000000</td>\n      <td>62.000000</td>\n      <td>62.000000</td>\n    </tr>\n    <tr>\n      <th>mean</th>\n      <td>1.580645</td>\n      <td>5.370968</td>\n      <td>14.693548</td>\n      <td>42.516129</td>\n    </tr>\n    <tr>\n      <th>std</th>\n      <td>0.615334</td>\n      <td>2.631673</td>\n      <td>8.845836</td>\n      <td>25.444728</td>\n    </tr>\n    <tr>\n      <th>min</th>\n      <td>1.000000</td>\n      <td>1.000000</td>\n      <td>1.000000</td>\n      <td>5.000000</td>\n    </tr>\n    <tr>\n      <th>25%</th>\n      <td>1.000000</td>\n      <td>3.000000</td>\n      <td>7.000000</td>\n      <td>23.000000</td>\n    </tr>\n    <tr>\n      <th>50%</th>\n      <td>2.000000</td>\n      <td>5.000000</td>\n      <td>14.500000</td>\n      <td>41.000000</td>\n    </tr>\n    <tr>\n      <th>75%</th>\n      <td>2.000000</td>\n      <td>7.750000</td>\n      <td>22.000000</td>\n      <td>60.500000</td>\n    </tr>\n    <tr>\n      <th>max</th>\n      <td>3.000000</td>\n      <td>10.000000</td>\n      <td>31.000000</td>\n      <td>97.000000</td>\n    </tr>\n  </tbody>\n</table>\n</div>"
     },
     "metadata": {},
     "execution_count": 72
    }
   ],
   "source": [
    "day_unique = df.drop_duplicates(subset = ['user_id', 'month', 'week', 'day'])\n",
    "day_unique = day_unique.reset_index(drop = True)\n",
    "daily_activity = day_unique.groupby(['month', 'week', 'day'])['user_id'].agg(['count']).reset_index()\n",
    "daily_activity.describe()"
   ]
  },
  {
   "cell_type": "markdown",
   "metadata": {},
   "source": [
    "## Activity by day by user: There are 255 unique users of this product, about 120 used this product between 8 and 41 days, while the other 120 used this product between 1 and 8 days. "
   ]
  },
  {
   "cell_type": "code",
   "execution_count": 95,
   "metadata": {},
   "outputs": [
    {
     "output_type": "execute_result",
     "data": {
      "text/plain": "          user_id       count\ncount  255.000000  255.000000\nmean   133.133333   10.337255\nstd     76.207225    8.016468\nmin      1.000000    1.000000\n25%     67.500000    4.000000\n50%    134.000000    8.000000\n75%    198.500000   14.000000\nmax    263.000000   41.000000",
      "text/html": "<div>\n<style scoped>\n    .dataframe tbody tr th:only-of-type {\n        vertical-align: middle;\n    }\n\n    .dataframe tbody tr th {\n        vertical-align: top;\n    }\n\n    .dataframe thead th {\n        text-align: right;\n    }\n</style>\n<table border=\"1\" class=\"dataframe\">\n  <thead>\n    <tr style=\"text-align: right;\">\n      <th></th>\n      <th>user_id</th>\n      <th>count</th>\n    </tr>\n  </thead>\n  <tbody>\n    <tr>\n      <th>count</th>\n      <td>255.000000</td>\n      <td>255.000000</td>\n    </tr>\n    <tr>\n      <th>mean</th>\n      <td>133.133333</td>\n      <td>10.337255</td>\n    </tr>\n    <tr>\n      <th>std</th>\n      <td>76.207225</td>\n      <td>8.016468</td>\n    </tr>\n    <tr>\n      <th>min</th>\n      <td>1.000000</td>\n      <td>1.000000</td>\n    </tr>\n    <tr>\n      <th>25%</th>\n      <td>67.500000</td>\n      <td>4.000000</td>\n    </tr>\n    <tr>\n      <th>50%</th>\n      <td>134.000000</td>\n      <td>8.000000</td>\n    </tr>\n    <tr>\n      <th>75%</th>\n      <td>198.500000</td>\n      <td>14.000000</td>\n    </tr>\n    <tr>\n      <th>max</th>\n      <td>263.000000</td>\n      <td>41.000000</td>\n    </tr>\n  </tbody>\n</table>\n</div>"
     },
     "metadata": {},
     "execution_count": 95
    }
   ],
   "source": [
    "total_user_activity = day_unique.groupby(['user_id'])['day_of_week'].agg(['count']).reset_index()\n",
    "total_user_activity.describe()"
   ]
  },
  {
   "cell_type": "markdown",
   "metadata": {},
   "source": [
    "## Activity by week - The number of unique users increases every week. NOTE: Week 10 is not a full week: Mon, Tue, Wed only"
   ]
  },
  {
   "cell_type": "code",
   "execution_count": 37,
   "metadata": {},
   "outputs": [
    {
     "output_type": "execute_result",
     "data": {
      "text/plain": "   week  count\n0     1     14\n1     2     29\n2     3     45\n3     4     65\n4     5     86\n5     6     99\n6     7    121\n7     8    147\n8     9    180\n9    10    148",
      "text/html": "<div>\n<style scoped>\n    .dataframe tbody tr th:only-of-type {\n        vertical-align: middle;\n    }\n\n    .dataframe tbody tr th {\n        vertical-align: top;\n    }\n\n    .dataframe thead th {\n        text-align: right;\n    }\n</style>\n<table border=\"1\" class=\"dataframe\">\n  <thead>\n    <tr style=\"text-align: right;\">\n      <th></th>\n      <th>week</th>\n      <th>count</th>\n    </tr>\n  </thead>\n  <tbody>\n    <tr>\n      <th>0</th>\n      <td>1</td>\n      <td>14</td>\n    </tr>\n    <tr>\n      <th>1</th>\n      <td>2</td>\n      <td>29</td>\n    </tr>\n    <tr>\n      <th>2</th>\n      <td>3</td>\n      <td>45</td>\n    </tr>\n    <tr>\n      <th>3</th>\n      <td>4</td>\n      <td>65</td>\n    </tr>\n    <tr>\n      <th>4</th>\n      <td>5</td>\n      <td>86</td>\n    </tr>\n    <tr>\n      <th>5</th>\n      <td>6</td>\n      <td>99</td>\n    </tr>\n    <tr>\n      <th>6</th>\n      <td>7</td>\n      <td>121</td>\n    </tr>\n    <tr>\n      <th>7</th>\n      <td>8</td>\n      <td>147</td>\n    </tr>\n    <tr>\n      <th>8</th>\n      <td>9</td>\n      <td>180</td>\n    </tr>\n    <tr>\n      <th>9</th>\n      <td>10</td>\n      <td>148</td>\n    </tr>\n  </tbody>\n</table>\n</div>"
     },
     "metadata": {},
     "execution_count": 37
    }
   ],
   "source": [
    "week_unique = df.drop_duplicates(subset = ['user_id', 'week'])\n",
    "week_unique = week_unique.reset_index(drop = True)\n",
    "week_activity = week_unique.groupby(['week'])['user_id'].agg(['count']).reset_index()\n",
    "week_activity"
   ]
  },
  {
   "cell_type": "markdown",
   "metadata": {},
   "source": [
    "## Activity by week by user: About half the users used this product between 3 and 9 weeks, while the other half used it between 1 and 3 weeks. "
   ]
  },
  {
   "cell_type": "code",
   "execution_count": 96,
   "metadata": {},
   "outputs": [
    {
     "output_type": "execute_result",
     "data": {
      "text/plain": "          user_id       count\ncount  255.000000  255.000000\nmean   133.133333    3.662745\nstd     76.207225    1.999012\nmin      1.000000    1.000000\n25%     67.500000    2.000000\n50%    134.000000    3.000000\n75%    198.500000    5.000000\nmax    263.000000   10.000000",
      "text/html": "<div>\n<style scoped>\n    .dataframe tbody tr th:only-of-type {\n        vertical-align: middle;\n    }\n\n    .dataframe tbody tr th {\n        vertical-align: top;\n    }\n\n    .dataframe thead th {\n        text-align: right;\n    }\n</style>\n<table border=\"1\" class=\"dataframe\">\n  <thead>\n    <tr style=\"text-align: right;\">\n      <th></th>\n      <th>user_id</th>\n      <th>count</th>\n    </tr>\n  </thead>\n  <tbody>\n    <tr>\n      <th>count</th>\n      <td>255.000000</td>\n      <td>255.000000</td>\n    </tr>\n    <tr>\n      <th>mean</th>\n      <td>133.133333</td>\n      <td>3.662745</td>\n    </tr>\n    <tr>\n      <th>std</th>\n      <td>76.207225</td>\n      <td>1.999012</td>\n    </tr>\n    <tr>\n      <th>min</th>\n      <td>1.000000</td>\n      <td>1.000000</td>\n    </tr>\n    <tr>\n      <th>25%</th>\n      <td>67.500000</td>\n      <td>2.000000</td>\n    </tr>\n    <tr>\n      <th>50%</th>\n      <td>134.000000</td>\n      <td>3.000000</td>\n    </tr>\n    <tr>\n      <th>75%</th>\n      <td>198.500000</td>\n      <td>5.000000</td>\n    </tr>\n    <tr>\n      <th>max</th>\n      <td>263.000000</td>\n      <td>10.000000</td>\n    </tr>\n  </tbody>\n</table>\n</div>"
     },
     "metadata": {},
     "execution_count": 96
    }
   ],
   "source": [
    "total_weekly_user_activity = week_unique.groupby(['user_id'])['day_of_week'].agg(['count']).reset_index()\n",
    "total_weekly_user_activity.describe()"
   ]
  },
  {
   "cell_type": "code",
   "execution_count": 99,
   "metadata": {},
   "outputs": [
    {
     "output_type": "execute_result",
     "data": {
      "text/plain": "     user_id  count\n0        1.0      7\n1        2.0      5\n2        3.0      5\n3        4.0     10\n4        5.0      3\n..       ...    ...\n250    259.0      1\n251    260.0      1\n252    261.0      1\n253    262.0      2\n254    263.0      2\n\n[255 rows x 2 columns]",
      "text/html": "<div>\n<style scoped>\n    .dataframe tbody tr th:only-of-type {\n        vertical-align: middle;\n    }\n\n    .dataframe tbody tr th {\n        vertical-align: top;\n    }\n\n    .dataframe thead th {\n        text-align: right;\n    }\n</style>\n<table border=\"1\" class=\"dataframe\">\n  <thead>\n    <tr style=\"text-align: right;\">\n      <th></th>\n      <th>user_id</th>\n      <th>count</th>\n    </tr>\n  </thead>\n  <tbody>\n    <tr>\n      <th>0</th>\n      <td>1.0</td>\n      <td>7</td>\n    </tr>\n    <tr>\n      <th>1</th>\n      <td>2.0</td>\n      <td>5</td>\n    </tr>\n    <tr>\n      <th>2</th>\n      <td>3.0</td>\n      <td>5</td>\n    </tr>\n    <tr>\n      <th>3</th>\n      <td>4.0</td>\n      <td>10</td>\n    </tr>\n    <tr>\n      <th>4</th>\n      <td>5.0</td>\n      <td>3</td>\n    </tr>\n    <tr>\n      <th>...</th>\n      <td>...</td>\n      <td>...</td>\n    </tr>\n    <tr>\n      <th>250</th>\n      <td>259.0</td>\n      <td>1</td>\n    </tr>\n    <tr>\n      <th>251</th>\n      <td>260.0</td>\n      <td>1</td>\n    </tr>\n    <tr>\n      <th>252</th>\n      <td>261.0</td>\n      <td>1</td>\n    </tr>\n    <tr>\n      <th>253</th>\n      <td>262.0</td>\n      <td>2</td>\n    </tr>\n    <tr>\n      <th>254</th>\n      <td>263.0</td>\n      <td>2</td>\n    </tr>\n  </tbody>\n</table>\n<p>255 rows × 2 columns</p>\n</div>"
     },
     "metadata": {},
     "execution_count": 99
    }
   ],
   "source": [
    "total_weekly_user_activity"
   ]
  },
  {
   "cell_type": "markdown",
   "metadata": {},
   "source": [
    "## Activity by Month: not useful as of now because one can only compare Jan and Feb since March is only 4 days, but based on those 4 days it already has a lot of activity and so we would still expect activity to increase NOTE: March only has 4 days compared to January and February which are full months"
   ]
  },
  {
   "cell_type": "code",
   "execution_count": 48,
   "metadata": {},
   "outputs": [
    {
     "output_type": "execute_result",
     "data": {
      "text/plain": "   month  count\n0      1     86\n1      2    232\n2      3    160",
      "text/html": "<div>\n<style scoped>\n    .dataframe tbody tr th:only-of-type {\n        vertical-align: middle;\n    }\n\n    .dataframe tbody tr th {\n        vertical-align: top;\n    }\n\n    .dataframe thead th {\n        text-align: right;\n    }\n</style>\n<table border=\"1\" class=\"dataframe\">\n  <thead>\n    <tr style=\"text-align: right;\">\n      <th></th>\n      <th>month</th>\n      <th>count</th>\n    </tr>\n  </thead>\n  <tbody>\n    <tr>\n      <th>0</th>\n      <td>1</td>\n      <td>86</td>\n    </tr>\n    <tr>\n      <th>1</th>\n      <td>2</td>\n      <td>232</td>\n    </tr>\n    <tr>\n      <th>2</th>\n      <td>3</td>\n      <td>160</td>\n    </tr>\n  </tbody>\n</table>\n</div>"
     },
     "metadata": {},
     "execution_count": 48
    }
   ],
   "source": [
    "month_unique = df.drop_duplicates(subset = ['user_id', 'month'])\n",
    "month_unique = month_unique.reset_index(drop = True)\n",
    "month_activity = month_unique.groupby(['month'])['user_id'].agg(['count']).reset_index()\n",
    "month_activity"
   ]
  },
  {
   "cell_type": "markdown",
   "metadata": {},
   "source": [
    "## Activity by month by user: 25% of users used the product in all 3 months (with March only having 3 working days), so we expect this to increase. 75% of users used the product for at least 2 months. With only 2 months and a small part of a 3rd month, this is something to track for the future. "
   ]
  },
  {
   "cell_type": "code",
   "execution_count": 98,
   "metadata": {},
   "outputs": [
    {
     "output_type": "execute_result",
     "data": {
      "text/plain": "          user_id       count\ncount  255.000000  255.000000\nmean   133.133333    1.874510\nstd     76.207225    0.595205\nmin      1.000000    1.000000\n25%     67.500000    2.000000\n50%    134.000000    2.000000\n75%    198.500000    2.000000\nmax    263.000000    3.000000",
      "text/html": "<div>\n<style scoped>\n    .dataframe tbody tr th:only-of-type {\n        vertical-align: middle;\n    }\n\n    .dataframe tbody tr th {\n        vertical-align: top;\n    }\n\n    .dataframe thead th {\n        text-align: right;\n    }\n</style>\n<table border=\"1\" class=\"dataframe\">\n  <thead>\n    <tr style=\"text-align: right;\">\n      <th></th>\n      <th>user_id</th>\n      <th>count</th>\n    </tr>\n  </thead>\n  <tbody>\n    <tr>\n      <th>count</th>\n      <td>255.000000</td>\n      <td>255.000000</td>\n    </tr>\n    <tr>\n      <th>mean</th>\n      <td>133.133333</td>\n      <td>1.874510</td>\n    </tr>\n    <tr>\n      <th>std</th>\n      <td>76.207225</td>\n      <td>0.595205</td>\n    </tr>\n    <tr>\n      <th>min</th>\n      <td>1.000000</td>\n      <td>1.000000</td>\n    </tr>\n    <tr>\n      <th>25%</th>\n      <td>67.500000</td>\n      <td>2.000000</td>\n    </tr>\n    <tr>\n      <th>50%</th>\n      <td>134.000000</td>\n      <td>2.000000</td>\n    </tr>\n    <tr>\n      <th>75%</th>\n      <td>198.500000</td>\n      <td>2.000000</td>\n    </tr>\n    <tr>\n      <th>max</th>\n      <td>263.000000</td>\n      <td>3.000000</td>\n    </tr>\n  </tbody>\n</table>\n</div>"
     },
     "metadata": {},
     "execution_count": 98
    }
   ],
   "source": [
    "total_monthly_user_activity = month_unique.groupby(['user_id'])['day_of_week'].agg(['count']).reset_index()\n",
    "total_monthly_user_activity.describe()"
   ]
  },
  {
   "cell_type": "markdown",
   "metadata": {},
   "source": [
    "# 2. Growth"
   ]
  },
  {
   "cell_type": "markdown",
   "metadata": {},
   "source": [
    "## Growth by day- given the sample sizes I do not focus on takeaways from daily growth, one after another, but rather: What does the average day's growth look like? The average day over the 9 weeks has about 6% growth. Because the average percentage growth is larger than the median percentage growth, it means some days have a lot of growth. Additionally, half of the day's have between 0% and 150% growth, while half of the days have between 37% decrease in growth and no growth."
   ]
  },
  {
   "cell_type": "code",
   "execution_count": 69,
   "metadata": {},
   "outputs": [
    {
     "output_type": "execute_result",
     "data": {
      "text/plain": "       growth_counts  growth_pct\ncount      61.000000   61.000000\nmean        1.114754    5.949567\nstd         7.552259   26.618142\nmin       -14.000000  -37.500000\n0%        -14.000000  -37.500000\n25%        -3.000000   -7.407407\n50%         0.000000    0.000000\nmax        27.000000  150.000000",
      "text/html": "<div>\n<style scoped>\n    .dataframe tbody tr th:only-of-type {\n        vertical-align: middle;\n    }\n\n    .dataframe tbody tr th {\n        vertical-align: top;\n    }\n\n    .dataframe thead th {\n        text-align: right;\n    }\n</style>\n<table border=\"1\" class=\"dataframe\">\n  <thead>\n    <tr style=\"text-align: right;\">\n      <th></th>\n      <th>growth_counts</th>\n      <th>growth_pct</th>\n    </tr>\n  </thead>\n  <tbody>\n    <tr>\n      <th>count</th>\n      <td>61.000000</td>\n      <td>61.000000</td>\n    </tr>\n    <tr>\n      <th>mean</th>\n      <td>1.114754</td>\n      <td>5.949567</td>\n    </tr>\n    <tr>\n      <th>std</th>\n      <td>7.552259</td>\n      <td>26.618142</td>\n    </tr>\n    <tr>\n      <th>min</th>\n      <td>-14.000000</td>\n      <td>-37.500000</td>\n    </tr>\n    <tr>\n      <th>0%</th>\n      <td>-14.000000</td>\n      <td>-37.500000</td>\n    </tr>\n    <tr>\n      <th>25%</th>\n      <td>-3.000000</td>\n      <td>-7.407407</td>\n    </tr>\n    <tr>\n      <th>50%</th>\n      <td>0.000000</td>\n      <td>0.000000</td>\n    </tr>\n    <tr>\n      <th>max</th>\n      <td>27.000000</td>\n      <td>150.000000</td>\n    </tr>\n  </tbody>\n</table>\n</div>"
     },
     "metadata": {},
     "execution_count": 69
    }
   ],
   "source": [
    "daily_activity['previous_day_cnts'] = daily_activity['count'].shift(periods = 1, axis = 'rows')\n",
    "daily_activity['growth_counts'] = daily_activity['count'] - daily_activity['previous_day_cnts']\n",
    "daily_activity['growth_pct'] = (daily_activity['growth_counts'] / daily_activity['previous_day_cnts']) * 100\n",
    "daily_activity[['growth_counts', 'growth_pct']].describe()"
   ]
  },
  {
   "cell_type": "markdown",
   "metadata": {},
   "source": [
    "## Growth by week- The user base grows every week, and half the weeks experience 27% increase in growth or more, or 20+ users. There is weekly growth anywhere between 15 and 107 percent, and is growing steadily each week around 20% growth each week for the last 3 weeks. Note:The 10th week is only 3 days and so is a partial week- therefore I am not including it."
   ]
  },
  {
   "cell_type": "code",
   "execution_count": 70,
   "metadata": {},
   "outputs": [
    {
     "output_type": "execute_result",
     "data": {
      "text/plain": "   week  count  previous_week_cnts  growth_counts  growth_pct\n0     1     14                 NaN            NaN         NaN\n1     2     29                14.0           15.0  107.142857\n2     3     45                29.0           16.0   55.172414\n3     4     65                45.0           20.0   44.444444\n4     5     86                65.0           21.0   32.307692\n5     6     99                86.0           13.0   15.116279\n6     7    121                99.0           22.0   22.222222\n7     8    147               121.0           26.0   21.487603\n8     9    180               147.0           33.0   22.448980",
      "text/html": "<div>\n<style scoped>\n    .dataframe tbody tr th:only-of-type {\n        vertical-align: middle;\n    }\n\n    .dataframe tbody tr th {\n        vertical-align: top;\n    }\n\n    .dataframe thead th {\n        text-align: right;\n    }\n</style>\n<table border=\"1\" class=\"dataframe\">\n  <thead>\n    <tr style=\"text-align: right;\">\n      <th></th>\n      <th>week</th>\n      <th>count</th>\n      <th>previous_week_cnts</th>\n      <th>growth_counts</th>\n      <th>growth_pct</th>\n    </tr>\n  </thead>\n  <tbody>\n    <tr>\n      <th>0</th>\n      <td>1</td>\n      <td>14</td>\n      <td>NaN</td>\n      <td>NaN</td>\n      <td>NaN</td>\n    </tr>\n    <tr>\n      <th>1</th>\n      <td>2</td>\n      <td>29</td>\n      <td>14.0</td>\n      <td>15.0</td>\n      <td>107.142857</td>\n    </tr>\n    <tr>\n      <th>2</th>\n      <td>3</td>\n      <td>45</td>\n      <td>29.0</td>\n      <td>16.0</td>\n      <td>55.172414</td>\n    </tr>\n    <tr>\n      <th>3</th>\n      <td>4</td>\n      <td>65</td>\n      <td>45.0</td>\n      <td>20.0</td>\n      <td>44.444444</td>\n    </tr>\n    <tr>\n      <th>4</th>\n      <td>5</td>\n      <td>86</td>\n      <td>65.0</td>\n      <td>21.0</td>\n      <td>32.307692</td>\n    </tr>\n    <tr>\n      <th>5</th>\n      <td>6</td>\n      <td>99</td>\n      <td>86.0</td>\n      <td>13.0</td>\n      <td>15.116279</td>\n    </tr>\n    <tr>\n      <th>6</th>\n      <td>7</td>\n      <td>121</td>\n      <td>99.0</td>\n      <td>22.0</td>\n      <td>22.222222</td>\n    </tr>\n    <tr>\n      <th>7</th>\n      <td>8</td>\n      <td>147</td>\n      <td>121.0</td>\n      <td>26.0</td>\n      <td>21.487603</td>\n    </tr>\n    <tr>\n      <th>8</th>\n      <td>9</td>\n      <td>180</td>\n      <td>147.0</td>\n      <td>33.0</td>\n      <td>22.448980</td>\n    </tr>\n  </tbody>\n</table>\n</div>"
     },
     "metadata": {},
     "execution_count": 70
    }
   ],
   "source": [
    "week_activity['previous_week_cnts'] = week_activity['count'].shift(periods = 1, axis = 'rows')\n",
    "week_activity['growth_counts'] = week_activity['count'] - week_activity['previous_week_cnts']\n",
    "week_activity['growth_pct'] = (week_activity['growth_counts'] / week_activity['previous_week_cnts']) * 100\n",
    "week_activity[:9]"
   ]
  },
  {
   "cell_type": "code",
   "execution_count": 71,
   "metadata": {},
   "outputs": [
    {
     "output_type": "execute_result",
     "data": {
      "text/plain": "       growth_counts  growth_pct\ncount       8.000000    8.000000\nmean       20.750000   40.042811\nstd         6.497252   30.244885\nmin        13.000000   15.116279\n25%        15.750000   22.038567\n50%        20.500000   27.378336\n75%        23.000000   47.126437\nmax        33.000000  107.142857",
      "text/html": "<div>\n<style scoped>\n    .dataframe tbody tr th:only-of-type {\n        vertical-align: middle;\n    }\n\n    .dataframe tbody tr th {\n        vertical-align: top;\n    }\n\n    .dataframe thead th {\n        text-align: right;\n    }\n</style>\n<table border=\"1\" class=\"dataframe\">\n  <thead>\n    <tr style=\"text-align: right;\">\n      <th></th>\n      <th>growth_counts</th>\n      <th>growth_pct</th>\n    </tr>\n  </thead>\n  <tbody>\n    <tr>\n      <th>count</th>\n      <td>8.000000</td>\n      <td>8.000000</td>\n    </tr>\n    <tr>\n      <th>mean</th>\n      <td>20.750000</td>\n      <td>40.042811</td>\n    </tr>\n    <tr>\n      <th>std</th>\n      <td>6.497252</td>\n      <td>30.244885</td>\n    </tr>\n    <tr>\n      <th>min</th>\n      <td>13.000000</td>\n      <td>15.116279</td>\n    </tr>\n    <tr>\n      <th>25%</th>\n      <td>15.750000</td>\n      <td>22.038567</td>\n    </tr>\n    <tr>\n      <th>50%</th>\n      <td>20.500000</td>\n      <td>27.378336</td>\n    </tr>\n    <tr>\n      <th>75%</th>\n      <td>23.000000</td>\n      <td>47.126437</td>\n    </tr>\n    <tr>\n      <th>max</th>\n      <td>33.000000</td>\n      <td>107.142857</td>\n    </tr>\n  </tbody>\n</table>\n</div>"
     },
     "metadata": {},
     "execution_count": 71
    }
   ],
   "source": [
    "week_activity[:9][['growth_counts', 'growth_pct']].describe()\n",
    ""
   ]
  },
  {
   "cell_type": "markdown",
   "metadata": {},
   "source": [
    "## Growth by month- not useful as of now because one can only compare Jan and Feb since March is only 4 days, but based on those 4 days it already has a lot of growth and so we would still expect growth to increase"
   ]
  },
  {
   "cell_type": "code",
   "execution_count": 56,
   "metadata": {},
   "outputs": [
    {
     "output_type": "execute_result",
     "data": {
      "text/plain": "   month  count  previous_month_cnts  growth_counts  growth_pct\n0      1     86                  NaN            NaN         NaN\n1      2    232                 86.0          146.0  169.767442\n2      3    160                232.0          -72.0  -31.034483",
      "text/html": "<div>\n<style scoped>\n    .dataframe tbody tr th:only-of-type {\n        vertical-align: middle;\n    }\n\n    .dataframe tbody tr th {\n        vertical-align: top;\n    }\n\n    .dataframe thead th {\n        text-align: right;\n    }\n</style>\n<table border=\"1\" class=\"dataframe\">\n  <thead>\n    <tr style=\"text-align: right;\">\n      <th></th>\n      <th>month</th>\n      <th>count</th>\n      <th>previous_month_cnts</th>\n      <th>growth_counts</th>\n      <th>growth_pct</th>\n    </tr>\n  </thead>\n  <tbody>\n    <tr>\n      <th>0</th>\n      <td>1</td>\n      <td>86</td>\n      <td>NaN</td>\n      <td>NaN</td>\n      <td>NaN</td>\n    </tr>\n    <tr>\n      <th>1</th>\n      <td>2</td>\n      <td>232</td>\n      <td>86.0</td>\n      <td>146.0</td>\n      <td>169.767442</td>\n    </tr>\n    <tr>\n      <th>2</th>\n      <td>3</td>\n      <td>160</td>\n      <td>232.0</td>\n      <td>-72.0</td>\n      <td>-31.034483</td>\n    </tr>\n  </tbody>\n</table>\n</div>"
     },
     "metadata": {},
     "execution_count": 56
    }
   ],
   "source": [
    "#month_activity = month_activity.sort_values(by = ['month'], ascending = False)\n",
    "month_activity['previous_month_cnts'] = month_activity['count'].shift(periods = 1, axis = 'rows')\n",
    "month_activity['growth_counts'] = month_activity['count'] - month_activity['previous_month_cnts']\n",
    "month_activity['growth_pct'] = (month_activity['growth_counts'] / month_activity['previous_month_cnts']) * 100\n",
    "month_activity"
   ]
  },
  {
   "cell_type": "markdown",
   "metadata": {},
   "source": [
    "# 3. Profitability: After 9 weeks the product is not yet profitable-but will likely become profitable early next week, as only 67 more users are required to reach profitability, and 66 to reach break-even"
   ]
  },
  {
   "cell_type": "code",
   "execution_count": 76,
   "metadata": {},
   "outputs": [
    {
     "output_type": "execute_result",
     "data": {
      "text/plain": "   week  count  previous_week_cnts  growth_counts  growth_pct  profit_per_week\n0     1     14                 NaN            NaN         NaN               28\n1     2     29                14.0           15.0  107.142857               58\n2     3     45                29.0           16.0   55.172414               90\n3     4     65                45.0           20.0   44.444444              130\n4     5     86                65.0           21.0   32.307692              172\n5     6     99                86.0           13.0   15.116279              198\n6     7    121                99.0           22.0   22.222222              242\n7     8    147               121.0           26.0   21.487603              294\n8     9    180               147.0           33.0   22.448980              360\n9    10    148               180.0          -32.0  -17.777778              296",
      "text/html": "<div>\n<style scoped>\n    .dataframe tbody tr th:only-of-type {\n        vertical-align: middle;\n    }\n\n    .dataframe tbody tr th {\n        vertical-align: top;\n    }\n\n    .dataframe thead th {\n        text-align: right;\n    }\n</style>\n<table border=\"1\" class=\"dataframe\">\n  <thead>\n    <tr style=\"text-align: right;\">\n      <th></th>\n      <th>week</th>\n      <th>count</th>\n      <th>previous_week_cnts</th>\n      <th>growth_counts</th>\n      <th>growth_pct</th>\n      <th>profit_per_week</th>\n    </tr>\n  </thead>\n  <tbody>\n    <tr>\n      <th>0</th>\n      <td>1</td>\n      <td>14</td>\n      <td>NaN</td>\n      <td>NaN</td>\n      <td>NaN</td>\n      <td>28</td>\n    </tr>\n    <tr>\n      <th>1</th>\n      <td>2</td>\n      <td>29</td>\n      <td>14.0</td>\n      <td>15.0</td>\n      <td>107.142857</td>\n      <td>58</td>\n    </tr>\n    <tr>\n      <th>2</th>\n      <td>3</td>\n      <td>45</td>\n      <td>29.0</td>\n      <td>16.0</td>\n      <td>55.172414</td>\n      <td>90</td>\n    </tr>\n    <tr>\n      <th>3</th>\n      <td>4</td>\n      <td>65</td>\n      <td>45.0</td>\n      <td>20.0</td>\n      <td>44.444444</td>\n      <td>130</td>\n    </tr>\n    <tr>\n      <th>4</th>\n      <td>5</td>\n      <td>86</td>\n      <td>65.0</td>\n      <td>21.0</td>\n      <td>32.307692</td>\n      <td>172</td>\n    </tr>\n    <tr>\n      <th>5</th>\n      <td>6</td>\n      <td>99</td>\n      <td>86.0</td>\n      <td>13.0</td>\n      <td>15.116279</td>\n      <td>198</td>\n    </tr>\n    <tr>\n      <th>6</th>\n      <td>7</td>\n      <td>121</td>\n      <td>99.0</td>\n      <td>22.0</td>\n      <td>22.222222</td>\n      <td>242</td>\n    </tr>\n    <tr>\n      <th>7</th>\n      <td>8</td>\n      <td>147</td>\n      <td>121.0</td>\n      <td>26.0</td>\n      <td>21.487603</td>\n      <td>294</td>\n    </tr>\n    <tr>\n      <th>8</th>\n      <td>9</td>\n      <td>180</td>\n      <td>147.0</td>\n      <td>33.0</td>\n      <td>22.448980</td>\n      <td>360</td>\n    </tr>\n    <tr>\n      <th>9</th>\n      <td>10</td>\n      <td>148</td>\n      <td>180.0</td>\n      <td>-32.0</td>\n      <td>-17.777778</td>\n      <td>296</td>\n    </tr>\n  </tbody>\n</table>\n</div>"
     },
     "metadata": {},
     "execution_count": 76
    }
   ],
   "source": [
    "week_activity['profit_per_week'] = week_activity['count'] * 2\n",
    "week_activity"
   ]
  },
  {
   "cell_type": "code",
   "execution_count": 78,
   "metadata": {},
   "outputs": [
    {
     "output_type": "execute_result",
     "data": {
      "text/plain": "1868"
     },
     "metadata": {},
     "execution_count": 78
    }
   ],
   "source": [
    "week_activity['profit_per_week'].sum()"
   ]
  },
  {
   "cell_type": "markdown",
   "metadata": {},
   "source": [
    "## Number of users until profitability"
   ]
  },
  {
   "cell_type": "code",
   "execution_count": 80,
   "metadata": {},
   "outputs": [
    {
     "output_type": "execute_result",
     "data": {
      "text/plain": "66.0"
     },
     "metadata": {},
     "execution_count": 80
    }
   ],
   "source": [
    "(2000 - week_activity['profit_per_week'].sum()) / 2"
   ]
  },
  {
   "cell_type": "markdown",
   "metadata": {},
   "source": [
    "## When thinking about interesting metrics I assume that one wants to maximize growth and retention for product market fit. There is presumably some limit to the total pool of people interested in this product. If lots of people want to try the product, that is great for growth, but if they all drop off or most drop off, then the company would be continuously looking for new people to try the product, and then retain them.  Maximizing growth and retention requires 1. gaining users and 2. retaining them. Therefore I will examine individual user patterns, and individual user patterns over time. I assume there could be differences between someone who began with the product in Jan because by March, presumably improvements have been made, and features added that might retain more people, that could have dropped off in Jan. Retention: Someone who uses the product (we do not know for how long).\n",
    "\n",
    "With the current amount of data, we will focus on week-over-week retention, because profitability is calculated based on Avg Weekly Users. \n",
    "- How has user retention changed over time? ie. Are users retaining better in late Feb/March better than in early Jan? User retention cohort\n",
    "- Is there a strong point of drop-off (ie. after 3 weeks, many users stop completely)\n",
    "- How strong an indicator is daily use an indicator of weekly retention? Ie if most users use the product for 5 days in a row, are they more likely to keep using it than someone who uses it once a week? One would use different hooks to bring someone back daily rather than 1x a week\n",
    "\n",
    "Differences in how people are retained and use the product impacts....\n",
    "\n",
    "Marketing / Product\n",
    "Additionally, it is important to think about how to people use the product to retain them. If most users who retain use the product every day, there are likely different hooks and nudges needed both when marketing the product and when interacting with users (ie if it is an app you may send daily push notifications of some kind). However, if most people use the product once a week, but retain, then having daily notifications (if it was an app), might be annoying and discourage the user. \n",
    "\n",
    "Data Science\n",
    "You will create different metrics and analyses based on retained user patterns. \n",
    "\n",
    "Engineering\n",
    "If people use a product 1x a week versus 5x a week there is a different amount of load required- similarly if people are all using the product at the same time versus at different times."
   ]
  },
  {
   "cell_type": "markdown",
   "metadata": {},
   "source": [
    "## Week 1 User retention"
   ]
  },
  {
   "cell_type": "code",
   "execution_count": 127,
   "metadata": {},
   "outputs": [
    {
     "output_type": "stream",
     "name": "stdout",
     "text": "14 initial user count\n14 count retained after 1 Weeks\n100.0 pct\n13 count retained after 2 Weeks\n92.86 pct\n12 count retained after 3 Weeks\n85.71 pct\n12 count retained after 4 Weeks\n85.71 pct\n10 count retained after 5 Weeks\n71.43 pct\n8 count retained after 6 Weeks\n57.14 pct\n5 count retained after 7 Weeks\n35.71 pct\n4 count retained after 8 Weeks\n28.57 pct\n4 count retained after 9 Weeks\n28.57 pct\n"
    },
    {
     "output_type": "execute_result",
     "data": {
      "text/plain": "[(100.0, 'week number', 1),\n (92.86, 'week number', 2),\n (85.71, 'week number', 3),\n (85.71, 'week number', 4),\n (71.43, 'week number', 5),\n (57.14, 'week number', 6),\n (35.71, 'week number', 7),\n (28.57, 'week number', 8),\n (28.57, 'week number', 9)]"
     },
     "metadata": {},
     "execution_count": 127
    }
   ],
   "source": [
    "week1_users = week_unique[week_unique['week'] == 1]\n",
    "print(week1_users.user_id.nunique(), \"initial user count\")\n",
    "week2_users = week_unique[week_unique['week'] == 2]\n",
    "week3_users = week_unique[week_unique['week'] == 3]\n",
    "week4_users = week_unique[week_unique['week'] == 4]\n",
    "week5_users = week_unique[week_unique['week'] == 5]\n",
    "week6_users = week_unique[week_unique['week'] == 6]\n",
    "week7_users = week_unique[week_unique['week'] == 7]\n",
    "week8_users = week_unique[week_unique['week'] == 8]\n",
    "week9_users = week_unique[week_unique['week'] == 9]\n",
    "week10_users = week_unique[week_unique['week'] == 10]\n",
    "\n",
    "initial_count = week1_users.user_id.nunique()\n",
    "week1_pct_list = list()\n",
    "\n",
    "all_weeks = [week1_users, week2_users, week3_users, week4_users, week5_users, week6_users, week7_users, week8_users, week9_users, week10_users]\n",
    "for week_number in range(1, len(all_weeks)):\n",
    "    print(len(all_weeks[week_number][all_weeks[week_number]['user_id'].isin(week1_users.user_id)]), \"count retained after\", week_number, \"Weeks\")\n",
    "    retained_count = len(all_weeks[week_number][all_weeks[week_number]['user_id'].isin(week1_users.user_id)])\n",
    "    print(round((retained_count / initial_count) * 100,2), \"pct\")\n",
    "    week1_pct_list.append((round((retained_count / initial_count) * 100,2), \"week number\", week_number))\n",
    "week1_pct_list"
   ]
  },
  {
   "cell_type": "markdown",
   "metadata": {},
   "source": [
    "## Week 4 User retention over time"
   ]
  },
  {
   "cell_type": "code",
   "execution_count": 129,
   "metadata": {},
   "outputs": [
    {
     "output_type": "stream",
     "name": "stdout",
     "text": "65 initial user count\n63 count retained after 1 Weeks\n96.92 pct\n53 count retained after 2 Weeks\n81.54 pct\n40 count retained after 3 Weeks\n61.54 pct\n28 count retained after 4 Weeks\n43.08 pct\n23 count retained after 5 Weeks\n35.38 pct\n16 count retained after 6 Weeks\n24.62 pct\n"
    },
    {
     "output_type": "execute_result",
     "data": {
      "text/plain": "[(96.92, 'week number', 1),\n (81.54, 'week number', 2),\n (61.54, 'week number', 3),\n (43.08, 'week number', 4),\n (35.38, 'week number', 5),\n (24.62, 'week number', 6)]"
     },
     "metadata": {},
     "execution_count": 129
    }
   ],
   "source": [
    "print(week4_users.user_id.nunique(), \"initial user count\")\n",
    "\n",
    "initial_count = week4_users.user_id.nunique()\n",
    "week4_pct_list = list()\n",
    "\n",
    "all_weeks = [week4_users, week5_users, week6_users, week7_users, week8_users, week9_users, week10_users]\n",
    "for week_number in range(1, len(all_weeks)):\n",
    "    print(len(all_weeks[week_number][all_weeks[week_number]['user_id'].isin(week4_users.user_id)]), \"count retained after\", week_number, \"Weeks\")\n",
    "    retained_count = len(all_weeks[week_number][all_weeks[week_number]['user_id'].isin(week4_users.user_id)])\n",
    "    print(round((retained_count / initial_count) * 100,2), \"pct\")\n",
    "    week4_pct_list.append((round((retained_count / initial_count) * 100,2), \"week number\", week_number))\n",
    "week4_pct_list"
   ]
  },
  {
   "cell_type": "markdown",
   "metadata": {},
   "source": [
    "## Week 6 User retention"
   ]
  },
  {
   "cell_type": "code",
   "execution_count": 132,
   "metadata": {},
   "outputs": [
    {
     "output_type": "stream",
     "name": "stdout",
     "text": "99 initial user count\n84 count retained after 1 Weeks\n84.85 pct\n70 count retained after 2 Weeks\n70.71 pct\n54 count retained after 3 Weeks\n54.55 pct\n45 count retained after 4 Weeks\n45.45 pct\n"
    },
    {
     "output_type": "execute_result",
     "data": {
      "text/plain": "[(84.85, 'week number', 1),\n (70.71, 'week number', 2),\n (54.55, 'week number', 3),\n (45.45, 'week number', 4)]"
     },
     "metadata": {},
     "execution_count": 132
    }
   ],
   "source": [
    "print(week6_users.user_id.nunique(), \"initial user count\")\n",
    "\n",
    "initial_count = week6_users.user_id.nunique()\n",
    "week6_pct_list = list()\n",
    "\n",
    "all_weeks = [week6_users, week7_users, week8_users, week9_users, week10_users]\n",
    "for week_number in range(1, len(all_weeks)):\n",
    "    print(len(all_weeks[week_number][all_weeks[week_number]['user_id'].isin(week6_users.user_id)]), \"count retained after\", week_number, \"Weeks\")\n",
    "    retained_count = len(all_weeks[week_number][all_weeks[week_number]['user_id'].isin(week6_users.user_id)])\n",
    "    print(round((retained_count / initial_count) * 100,2), \"pct\")\n",
    "    week6_pct_list.append((round((retained_count / initial_count) * 100,2), \"week number\", week_number))\n",
    "week6_pct_list"
   ]
  },
  {
   "cell_type": "markdown",
   "metadata": {},
   "source": [
    "## Retention by Cohort Analysis"
   ]
  },
  {
   "cell_type": "code",
   "execution_count": 137,
   "metadata": {},
   "outputs": [
    {
     "output_type": "execute_result",
     "data": {
      "text/plain": "          week1_rentention        week4_retention_x        week4_retention_y\n0  (100.0, week number, 1)  (96.92, week number, 1)  (84.85, week number, 1)\n1  (92.86, week number, 2)  (81.54, week number, 2)  (70.71, week number, 2)\n2  (85.71, week number, 3)  (61.54, week number, 3)  (54.55, week number, 3)\n3  (85.71, week number, 4)  (43.08, week number, 4)  (45.45, week number, 4)\n4  (71.43, week number, 5)  (35.38, week number, 5)                      NaN\n5  (57.14, week number, 6)  (24.62, week number, 6)                      NaN\n6  (35.71, week number, 7)                      NaN                      NaN\n7  (28.57, week number, 8)                      NaN                      NaN\n8  (28.57, week number, 9)                      NaN                      NaN",
      "text/html": "<div>\n<style scoped>\n    .dataframe tbody tr th:only-of-type {\n        vertical-align: middle;\n    }\n\n    .dataframe tbody tr th {\n        vertical-align: top;\n    }\n\n    .dataframe thead th {\n        text-align: right;\n    }\n</style>\n<table border=\"1\" class=\"dataframe\">\n  <thead>\n    <tr style=\"text-align: right;\">\n      <th></th>\n      <th>week1_rentention</th>\n      <th>week4_retention_x</th>\n      <th>week4_retention_y</th>\n    </tr>\n  </thead>\n  <tbody>\n    <tr>\n      <th>0</th>\n      <td>(100.0, week number, 1)</td>\n      <td>(96.92, week number, 1)</td>\n      <td>(84.85, week number, 1)</td>\n    </tr>\n    <tr>\n      <th>1</th>\n      <td>(92.86, week number, 2)</td>\n      <td>(81.54, week number, 2)</td>\n      <td>(70.71, week number, 2)</td>\n    </tr>\n    <tr>\n      <th>2</th>\n      <td>(85.71, week number, 3)</td>\n      <td>(61.54, week number, 3)</td>\n      <td>(54.55, week number, 3)</td>\n    </tr>\n    <tr>\n      <th>3</th>\n      <td>(85.71, week number, 4)</td>\n      <td>(43.08, week number, 4)</td>\n      <td>(45.45, week number, 4)</td>\n    </tr>\n    <tr>\n      <th>4</th>\n      <td>(71.43, week number, 5)</td>\n      <td>(35.38, week number, 5)</td>\n      <td>NaN</td>\n    </tr>\n    <tr>\n      <th>5</th>\n      <td>(57.14, week number, 6)</td>\n      <td>(24.62, week number, 6)</td>\n      <td>NaN</td>\n    </tr>\n    <tr>\n      <th>6</th>\n      <td>(35.71, week number, 7)</td>\n      <td>NaN</td>\n      <td>NaN</td>\n    </tr>\n    <tr>\n      <th>7</th>\n      <td>(28.57, week number, 8)</td>\n      <td>NaN</td>\n      <td>NaN</td>\n    </tr>\n    <tr>\n      <th>8</th>\n      <td>(28.57, week number, 9)</td>\n      <td>NaN</td>\n      <td>NaN</td>\n    </tr>\n  </tbody>\n</table>\n</div>"
     },
     "metadata": {},
     "execution_count": 137
    }
   ],
   "source": [
    "retention_by_cohort = pd.DataFrame({'week1_rentention' : week1_pct_list})\n",
    "rt4 = pd.DataFrame({'week4_retention' : week4_pct_list})\n",
    "retention_by_cohort = retention_by_cohort.merge(rt4, left_index = True, right_index = True, how = 'outer')\n",
    "rt6 = pd.DataFrame({'week4_retention' : week6_pct_list})\n",
    "retention_by_cohort = retention_by_cohort.merge(rt6, left_index = True, right_index = True, how = 'outer')\n",
    "retention_by_cohort"
   ]
  }
 ]
}